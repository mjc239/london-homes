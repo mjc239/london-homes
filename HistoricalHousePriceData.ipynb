{
 "cells": [
  {
   "cell_type": "code",
   "execution_count": 1,
   "metadata": {},
   "outputs": [],
   "source": [
    "import numpy as np\n",
    "import pandas as pd\n",
    "import datetime as dt\n",
    "import matplotlib.pyplot as plt\n",
    "\n",
    "from pandas.plotting import register_matplotlib_converters\n",
    "register_matplotlib_converters()\n",
    "\n",
    "from ipywidgets import interact, interactive_output, fixed, interact_manual\n",
    "import ipywidgets as widgets"
   ]
  },
  {
   "cell_type": "markdown",
   "metadata": {},
   "source": [
    "## Analysis of historical London house prices"
   ]
  },
  {
   "cell_type": "markdown",
   "metadata": {},
   "source": [
    "First, load the csv of historical house price data. The most recent version of the csv file (Feb 2020) is at:\n",
    "\n",
    "https://www.gov.uk/government/statistical-data-sets/uk-house-price-index-data-downloads-december-2019\n",
    "\n",
    "Find the file called \"UK HPI full file\", download and place it in the same directory as this notebook."
   ]
  },
  {
   "cell_type": "code",
   "execution_count": 2,
   "metadata": {},
   "outputs": [],
   "source": [
    "df = pd.read_csv(\"UK-HPI-full-file-2019-12.csv\")"
   ]
  },
  {
   "cell_type": "markdown",
   "metadata": {},
   "source": [
    "Only care about London data, so look for area codes starting 'E09':"
   ]
  },
  {
   "cell_type": "code",
   "execution_count": 3,
   "metadata": {},
   "outputs": [],
   "source": [
    "london_regions = df[df.AreaCode.apply(lambda x: x[:3]) == 'E09'].RegionName.unique()\n",
    "london_df = df[df.RegionName.isin(london_regions)].copy()\n",
    "london_df.Date = pd.to_datetime(london_df.Date, dayfirst=True)"
   ]
  },
  {
   "cell_type": "code",
   "execution_count": 4,
   "metadata": {},
   "outputs": [
    {
     "data": {
      "application/vnd.jupyter.widget-view+json": {
       "model_id": "1d181dac0ed34deebc9030ca07e342dc",
       "version_major": 2,
       "version_minor": 0
      },
      "text/plain": [
       "HBox(children=(SelectMultiple(description='Boroughs', index=(0,), options=('Barking and Dagenham', 'Barnet', '…"
      ]
     },
     "metadata": {},
     "output_type": "display_data"
    },
    {
     "data": {
      "application/vnd.jupyter.widget-view+json": {
       "model_id": "90e871726121461cbee7d9127c2511f0",
       "version_major": 2,
       "version_minor": 0
      },
      "text/plain": [
       "Output()"
      ]
     },
     "metadata": {},
     "output_type": "display_data"
    }
   ],
   "source": [
    "plt.rcParams['figure.figsize'] = (15, 7)\n",
    "chosen_boroughs = widgets.SelectMultiple(options=london_regions,\n",
    "                                         rows=10,\n",
    "                                         value = ['Barking and Dagenham'],\n",
    "                                         description='Boroughs')\n",
    "\n",
    "house_type = widgets.Dropdown(options=['Average', 'Detached', 'Flat', 'SemiDetached', 'Terraced', \n",
    "                                       'Cash', 'Mortgage', 'FTB', 'FOO', 'New', 'Old'])\n",
    "\n",
    "metric = widgets.Dropdown(options=['Price', 'Index', 'SalesVolume', '1m%Change', '12m%Change', 'PriceSA', 'IndexSA'])\n",
    "\n",
    "vbox = widgets.VBox([house_type, metric])\n",
    "hbox = widgets.HBox([chosen_boroughs, vbox])\n",
    "\n",
    "def compare_boroughs(chosen_boroughs=chosen_boroughs,\n",
    "                     house_type=house_type,\n",
    "                     metric=metric):\n",
    "    \n",
    "    if metric != 'Price' and house_type == 'Average':\n",
    "        house_type = ''\n",
    "        \n",
    "    if house_type + metric not in london_df.columns:\n",
    "        print('No data for this borough/metric combination!')\n",
    "        return\n",
    "    \n",
    "    for borough in chosen_boroughs:\n",
    "        this_df = london_df[london_df.RegionName == borough].copy()\n",
    "        this_df = this_df[['Date', house_type + metric]].set_index('Date')\n",
    "        plt.plot(this_df, label=borough)\n",
    "    if metric == 'Index':\n",
    "        plt.vlines(dt.date(day=1, month=1, year=2015), ymin=plt.ylim()[0], ymax=plt.ylim()[1])    \n",
    "    plt.legend()\n",
    "    plt.grid()\n",
    "    \n",
    "ui = widgets.HBox([chosen_boroughs, \n",
    "                   widgets.HBox([widgets.VBox([widgets.Label('Comparison type'), widgets.Label('Metric')]), \n",
    "                                 widgets.VBox([house_type, metric])\n",
    "                                ])\n",
    "                  ])\n",
    "out = interactive_output(compare_boroughs, {'chosen_boroughs': chosen_boroughs,\n",
    "                                      'house_type':house_type,\n",
    "                                      'metric':metric})\n",
    "display(ui, out)"
   ]
  },
  {
   "cell_type": "code",
   "execution_count": null,
   "metadata": {},
   "outputs": [],
   "source": []
  }
 ],
 "metadata": {
  "kernelspec": {
   "display_name": "Python 3",
   "language": "python",
   "name": "python3"
  },
  "language_info": {
   "codemirror_mode": {
    "name": "ipython",
    "version": 3
   },
   "file_extension": ".py",
   "mimetype": "text/x-python",
   "name": "python",
   "nbconvert_exporter": "python",
   "pygments_lexer": "ipython3",
   "version": "3.6.7"
  }
 },
 "nbformat": 4,
 "nbformat_minor": 2
}
